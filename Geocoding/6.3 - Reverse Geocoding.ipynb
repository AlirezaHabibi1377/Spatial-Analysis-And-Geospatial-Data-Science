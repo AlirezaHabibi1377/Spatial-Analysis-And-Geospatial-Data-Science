{
 "cells": [
  {
   "cell_type": "markdown",
   "metadata": {},
   "source": [
    "# <h1><center>Reverse Geocoding</center></h1>"
   ]
  },
  {
   "cell_type": "markdown",
   "metadata": {},
   "source": [
    "<img src=\"https://miro.medium.com/max/2000/1*GC6HUHW4101DZpBLrUVU1Q.png\"></img>"
   ]
  },
  {
   "cell_type": "code",
   "execution_count": null,
   "metadata": {
    "colab": {},
    "colab_type": "code",
    "id": "bEm0g-OFT3CB"
   },
   "outputs": [],
   "source": [
    "import pandas as pd\n",
    "\n",
    "import geopandas as gpd\n",
    "import geopy\n",
    "from geopy.geocoders import Nominatim\n",
    "from geopy.extra.rate_limiter import RateLimiter\n",
    "\n",
    "import matplotlib.pyplot as plt\n",
    "import plotly_express as px\n",
    "import tqdm\n",
    "from tqdm import tqdm\n",
    "from tqdm.notebook import tqdm_notebook"
   ]
  },
  {
   "cell_type": "markdown",
   "metadata": {
    "colab_type": "text",
    "id": "Zb5i7OkkJ_p8"
   },
   "source": [
    "## Reverse Geocoding Single Example"
   ]
  },
  {
   "cell_type": "code",
   "execution_count": null,
   "metadata": {
    "colab": {
     "base_uri": "https://localhost:8080/",
     "height": 34
    },
    "colab_type": "code",
    "id": "Tp8JDwBIUrHl",
    "outputId": "c8382a28-2551-4d82-9dc2-fa18e967701d"
   },
   "outputs": [],
   "source": [
    "coordinates = \"53.480837, -2.244914\"\n",
    "locator = Nominatim(user_agent=\"myGeocoder\")\n",
    "location = locator.reverse(coordinates)"
   ]
  },
  {
   "cell_type": "code",
   "execution_count": null,
   "metadata": {},
   "outputs": [],
   "source": [
    "location"
   ]
  },
  {
   "cell_type": "code",
   "execution_count": null,
   "metadata": {
    "colab": {
     "base_uri": "https://localhost:8080/",
     "height": 336
    },
    "colab_type": "code",
    "id": "B0tHbXBCVX12",
    "outputId": "4eb79ea2-8450-439d-8852-eb3b65524069"
   },
   "outputs": [],
   "source": [
    "location.raw"
   ]
  },
  {
   "cell_type": "code",
   "execution_count": null,
   "metadata": {
    "colab": {
     "base_uri": "https://localhost:8080/",
     "height": 50
    },
    "colab_type": "code",
    "id": "bsulW2raUNEE",
    "outputId": "63536a80-fadd-4e0a-f819-950fbcaf1f75"
   },
   "outputs": [],
   "source": [
    "print(location.address)"
   ]
  },
  {
   "cell_type": "code",
   "execution_count": null,
   "metadata": {
    "colab": {
     "base_uri": "https://localhost:8080/",
     "height": 34
    },
    "colab_type": "code",
    "id": "3_WvQekPJMHj",
    "outputId": "3fe26795-60f7-4468-b1ad-fe17b087a3bd"
   },
   "outputs": [],
   "source": [
    "location.raw[\"display_name\"]"
   ]
  },
  {
   "cell_type": "markdown",
   "metadata": {
    "colab_type": "text",
    "id": "11bHC4dDJ8wn"
   },
   "source": [
    "## Reverse Geocoding with Pandas"
   ]
  },
  {
   "cell_type": "code",
   "execution_count": null,
   "metadata": {
    "colab": {
     "base_uri": "https://localhost:8080/",
     "height": 212
    },
    "colab_type": "code",
    "id": "UGpn28yeWOS8",
    "outputId": "e7dab2b5-fb6c-49fc-db22-51bdc9ab0f1e"
   },
   "outputs": [],
   "source": [
    "url = \"https://www.dropbox.com/s/15gisj8hx218rn1/street-pole-sample.csv?dl=1\"\n",
    "cols = [\"X\", \"Y\", \"POLE_NUM\",\"TYPE\",\"HEIGHT\",\"POLE_DATE\",\"OWNER\"]\n",
    "df = pd.read_csv(url, usecols=cols)\n",
    "df.head()"
   ]
  },
  {
   "cell_type": "code",
   "execution_count": null,
   "metadata": {
    "colab": {
     "base_uri": "https://localhost:8080/",
     "height": 34
    },
    "colab_type": "code",
    "id": "rg56c4zxY4yD",
    "outputId": "3a3fb213-02a5-490e-bdcf-523a45f5cabb"
   },
   "outputs": [],
   "source": [
    "df.shape"
   ]
  },
  {
   "cell_type": "code",
   "execution_count": null,
   "metadata": {
    "colab": {
     "base_uri": "https://localhost:8080/",
     "height": 634
    },
    "colab_type": "code",
    "id": "Ix3OdTV7XG0s",
    "outputId": "9972a0f3-2e36-4cc2-c612-344069003d94"
   },
   "outputs": [],
   "source": [
    "import plotly_express as px\n",
    "px.set_mapbox_access_token(\"pk.eyJ1Ijoic2hha2Fzb20iLCJhIjoiY2plMWg1NGFpMXZ5NjJxbjhlM2ttN3AwbiJ9.RtGYHmreKiyBfHuElgYq_w\")\n",
    "px.scatter_mapbox(df, lat=\"Y\", lon=\"X\",  zoom=15)"
   ]
  },
  {
   "cell_type": "code",
   "execution_count": null,
   "metadata": {
    "colab": {
     "base_uri": "https://localhost:8080/",
     "height": 212
    },
    "colab_type": "code",
    "id": "YzeWclGjEL_5",
    "outputId": "4976df6b-abb3-4c50-c0ac-3c8462e631ac"
   },
   "outputs": [],
   "source": [
    "df[\"geom\"] =  df[\"Y\"].map(str)  + ',' + df['X'].map(str)\n",
    "df.head()"
   ]
  },
  {
   "cell_type": "code",
   "execution_count": null,
   "metadata": {
    "colab": {
     "base_uri": "https://localhost:8080/",
     "height": 34
    },
    "colab_type": "code",
    "id": "Msldmy9BEhF0",
    "outputId": "023cfa51-f022-4399-8bb7-4d4c40510ff0"
   },
   "outputs": [],
   "source": [
    "df.geom[0]\n",
    "\n"
   ]
  },
  {
   "cell_type": "code",
   "execution_count": null,
   "metadata": {
    "colab": {
     "base_uri": "https://localhost:8080/",
     "height": 34
    },
    "colab_type": "code",
    "id": "1rxNQfhAD-QT",
    "outputId": "653eaca8-645e-4ede-cb06-68626e634db3"
   },
   "outputs": [],
   "source": [
    "locator = Nominatim(user_agent=\"myGeocoder\", timeout=10)\n",
    "rgeocode = RateLimiter(locator.reverse, min_delay_seconds=0.001)\n",
    "rgeocode"
   ]
  },
  {
   "cell_type": "code",
   "execution_count": null,
   "metadata": {
    "colab": {
     "base_uri": "https://localhost:8080/",
     "height": 50
    },
    "colab_type": "code",
    "id": "xJFDeRMVD-TZ",
    "outputId": "f88cd044-63ef-49b0-e0eb-e933f6e3362f"
   },
   "outputs": [],
   "source": [
    "tqdm.pandas()\n",
    "df['address'] = df['geom'].progress_apply(rgeocode)"
   ]
  },
  {
   "cell_type": "code",
   "execution_count": null,
   "metadata": {
    "colab": {
     "base_uri": "https://localhost:8080/",
     "height": 212
    },
    "colab_type": "code",
    "id": "MNCZp_HkLy4t",
    "outputId": "57c8d3af-c641-4707-f78d-73f0fbaf46a5"
   },
   "outputs": [],
   "source": [
    "df.head()\n"
   ]
  },
  {
   "cell_type": "code",
   "execution_count": null,
   "metadata": {
    "colab": {
     "base_uri": "https://localhost:8080/",
     "height": 54
    },
    "colab_type": "code",
    "id": "BWElqmRGD-Vh",
    "outputId": "ab4ae822-94bf-457d-964c-93c8ef4986ce"
   },
   "outputs": [],
   "source": [
    "df[\"address\"][0]"
   ]
  },
  {
   "cell_type": "markdown",
   "metadata": {},
   "source": [
    "## Neshan ---> Geocoding"
   ]
  },
  {
   "cell_type": "code",
   "execution_count": 1,
   "metadata": {
    "colab": {},
    "colab_type": "code",
    "id": "-0DzQAmyD-YZ"
   },
   "outputs": [],
   "source": [
    "import requests"
   ]
  },
  {
   "cell_type": "code",
   "execution_count": 10,
   "metadata": {},
   "outputs": [
    {
     "name": "stdout",
     "output_type": "stream",
     "text": [
      "Success!\n"
     ]
    }
   ],
   "source": [
    "url = \"https://api.neshan.org/v4/geocoding?address=تهران خیابان آزادی خیابان کلهر کوچه فروهر پلاک 2\"\n",
    "headers = {\"Api-Key\": \"service.ef6db23a721245aaa835ac93964c52d6\"}\n",
    "\n",
    "response = requests.get(url, headers=headers)\n",
    "\n",
    "# Check the status code of the response\n",
    "if response.status_code == 200:\n",
    "    print(\"Success!\")\n",
    "    data = response.json() # Convert the response to JSON\n",
    "else:\n",
    "    print(f\"Failed to get data: {response.status_code}\")"
   ]
  },
  {
   "cell_type": "code",
   "execution_count": 12,
   "metadata": {},
   "outputs": [
    {
     "data": {
      "text/plain": [
       "{'location': {'x': 51.38183400196205, 'y': 35.69843322053343}, 'status': 'OK'}"
      ]
     },
     "execution_count": 12,
     "metadata": {},
     "output_type": "execute_result"
    }
   ],
   "source": [
    "data"
   ]
  },
  {
   "cell_type": "code",
   "execution_count": 23,
   "metadata": {},
   "outputs": [
    {
     "name": "stdout",
     "output_type": "stream",
     "text": [
      "Success!\n"
     ]
    }
   ],
   "source": [
    "url = \"https://api.neshan.org/v2/reverse?lat=35.69843322053343&lng=51.38183400196205\"\n",
    "headers = {\"Api-Key\": \"service.ef6db23a721245aaa835ac93964c52d6\"}\n",
    "\n",
    "response = requests.get(url, headers=headers)\n",
    "\n",
    "# Check the status code of the response\n",
    "if response.status_code == 200:\n",
    "    print(\"Success!\")\n",
    "    data = response.json() # Convert the response to JSON\n",
    "else:\n",
    "    print(f\"Failed to get data: {response.status_code}\")"
   ]
  },
  {
   "cell_type": "code",
   "execution_count": 24,
   "metadata": {},
   "outputs": [
    {
     "data": {
      "text/plain": [
       "{'status': 'OK',\n",
       " 'neighbourhood': 'جمهوری',\n",
       " 'municipality_zone': '11',\n",
       " 'state': 'استان تهران',\n",
       " 'city': 'تهران',\n",
       " 'in_traffic_zone': False,\n",
       " 'in_odd_even_zone': True,\n",
       " 'addresses': [{'formatted': 'توحید، کلهر، فروهر',\n",
       "   'components': [{'name': 'فروهر', 'type': 'residential'}]}],\n",
       " 'route_name': 'فروهر',\n",
       " 'route_type': 'residential',\n",
       " 'formatted_address': 'استان تهران، تهران، جمهوری، توحید، کلهر، فروهر'}"
      ]
     },
     "execution_count": 24,
     "metadata": {},
     "output_type": "execute_result"
    }
   ],
   "source": [
    "data"
   ]
  }
 ],
 "metadata": {
  "accelerator": "GPU",
  "colab": {
   "include_colab_link": true,
   "name": "ReverseGeocoding.ipynb",
   "provenance": []
  },
  "kernelspec": {
   "display_name": "Python 3",
   "language": "python",
   "name": "python3"
  },
  "language_info": {
   "codemirror_mode": {
    "name": "ipython",
    "version": 3
   },
   "file_extension": ".py",
   "mimetype": "text/x-python",
   "name": "python",
   "nbconvert_exporter": "python",
   "pygments_lexer": "ipython3",
   "version": "3.9.18"
  }
 },
 "nbformat": 4,
 "nbformat_minor": 4
}
