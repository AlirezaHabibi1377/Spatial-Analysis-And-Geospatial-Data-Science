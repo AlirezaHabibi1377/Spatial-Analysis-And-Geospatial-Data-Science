{
 "cells": [
  {
   "cell_type": "code",
   "execution_count": 1,
   "id": "6970b941",
   "metadata": {},
   "outputs": [],
   "source": [
    "import geopandas as gpd\n",
    "import pandas as pd\n",
    "import matplotlib.pyplot as plt"
   ]
  },
  {
   "cell_type": "code",
   "execution_count": 3,
   "id": "26c725d4",
   "metadata": {},
   "outputs": [
    {
     "data": {
      "text/html": [
       "<div>\n",
       "<style scoped>\n",
       "    .dataframe tbody tr th:only-of-type {\n",
       "        vertical-align: middle;\n",
       "    }\n",
       "\n",
       "    .dataframe tbody tr th {\n",
       "        vertical-align: top;\n",
       "    }\n",
       "\n",
       "    .dataframe thead th {\n",
       "        text-align: right;\n",
       "    }\n",
       "</style>\n",
       "<table border=\"1\" class=\"dataframe\">\n",
       "  <thead>\n",
       "    <tr style=\"text-align: right;\">\n",
       "      <th></th>\n",
       "      <th>NAME</th>\n",
       "      <th>POP_EST</th>\n",
       "      <th>GDP_MD_EST</th>\n",
       "      <th>POP_YEAR</th>\n",
       "      <th>LASTCENSUS</th>\n",
       "      <th>GDP_YEAR</th>\n",
       "      <th>ECONOMY</th>\n",
       "      <th>INCOME_GRP</th>\n",
       "      <th>CONTINENT</th>\n",
       "      <th>REGION_UN</th>\n",
       "      <th>SUBREGION</th>\n",
       "      <th>geometry</th>\n",
       "    </tr>\n",
       "  </thead>\n",
       "  <tbody>\n",
       "    <tr>\n",
       "      <th>0</th>\n",
       "      <td>Indonesia</td>\n",
       "      <td>260580739</td>\n",
       "      <td>3028000.0</td>\n",
       "      <td>2017</td>\n",
       "      <td>2010</td>\n",
       "      <td>2016</td>\n",
       "      <td>4. Emerging region: MIKT</td>\n",
       "      <td>4. Lower middle income</td>\n",
       "      <td>Asia</td>\n",
       "      <td>Asia</td>\n",
       "      <td>South-Eastern Asia</td>\n",
       "      <td>MULTIPOLYGON (((117.70361 4.16341, 117.70361 4...</td>\n",
       "    </tr>\n",
       "    <tr>\n",
       "      <th>1</th>\n",
       "      <td>Malaysia</td>\n",
       "      <td>31381992</td>\n",
       "      <td>863000.0</td>\n",
       "      <td>2017</td>\n",
       "      <td>2010</td>\n",
       "      <td>2016</td>\n",
       "      <td>6. Developing region</td>\n",
       "      <td>3. Upper middle income</td>\n",
       "      <td>Asia</td>\n",
       "      <td>Asia</td>\n",
       "      <td>South-Eastern Asia</td>\n",
       "      <td>MULTIPOLYGON (((117.70361 4.16341, 117.69711 4...</td>\n",
       "    </tr>\n",
       "    <tr>\n",
       "      <th>2</th>\n",
       "      <td>Chile</td>\n",
       "      <td>17789267</td>\n",
       "      <td>436100.0</td>\n",
       "      <td>2017</td>\n",
       "      <td>2002</td>\n",
       "      <td>2016</td>\n",
       "      <td>5. Emerging region: G20</td>\n",
       "      <td>3. Upper middle income</td>\n",
       "      <td>South America</td>\n",
       "      <td>Americas</td>\n",
       "      <td>South America</td>\n",
       "      <td>MULTIPOLYGON (((-69.51009 -17.50659, -69.50611...</td>\n",
       "    </tr>\n",
       "    <tr>\n",
       "      <th>3</th>\n",
       "      <td>Bolivia</td>\n",
       "      <td>11138234</td>\n",
       "      <td>78350.0</td>\n",
       "      <td>2017</td>\n",
       "      <td>2001</td>\n",
       "      <td>2016</td>\n",
       "      <td>5. Emerging region: G20</td>\n",
       "      <td>4. Lower middle income</td>\n",
       "      <td>South America</td>\n",
       "      <td>Americas</td>\n",
       "      <td>South America</td>\n",
       "      <td>POLYGON ((-69.51009 -17.50659, -69.51009 -17.5...</td>\n",
       "    </tr>\n",
       "    <tr>\n",
       "      <th>4</th>\n",
       "      <td>Peru</td>\n",
       "      <td>31036656</td>\n",
       "      <td>410400.0</td>\n",
       "      <td>2017</td>\n",
       "      <td>2007</td>\n",
       "      <td>2016</td>\n",
       "      <td>5. Emerging region: G20</td>\n",
       "      <td>3. Upper middle income</td>\n",
       "      <td>South America</td>\n",
       "      <td>Americas</td>\n",
       "      <td>South America</td>\n",
       "      <td>MULTIPOLYGON (((-69.51009 -17.50659, -69.63832...</td>\n",
       "    </tr>\n",
       "  </tbody>\n",
       "</table>\n",
       "</div>"
      ],
      "text/plain": [
       "        NAME    POP_EST  GDP_MD_EST  POP_YEAR  LASTCENSUS  GDP_YEAR  \\\n",
       "0  Indonesia  260580739   3028000.0      2017        2010      2016   \n",
       "1   Malaysia   31381992    863000.0      2017        2010      2016   \n",
       "2      Chile   17789267    436100.0      2017        2002      2016   \n",
       "3    Bolivia   11138234     78350.0      2017        2001      2016   \n",
       "4       Peru   31036656    410400.0      2017        2007      2016   \n",
       "\n",
       "                    ECONOMY              INCOME_GRP      CONTINENT REGION_UN  \\\n",
       "0  4. Emerging region: MIKT  4. Lower middle income           Asia      Asia   \n",
       "1      6. Developing region  3. Upper middle income           Asia      Asia   \n",
       "2   5. Emerging region: G20  3. Upper middle income  South America  Americas   \n",
       "3   5. Emerging region: G20  4. Lower middle income  South America  Americas   \n",
       "4   5. Emerging region: G20  3. Upper middle income  South America  Americas   \n",
       "\n",
       "            SUBREGION                                           geometry  \n",
       "0  South-Eastern Asia  MULTIPOLYGON (((117.70361 4.16341, 117.70361 4...  \n",
       "1  South-Eastern Asia  MULTIPOLYGON (((117.70361 4.16341, 117.69711 4...  \n",
       "2       South America  MULTIPOLYGON (((-69.51009 -17.50659, -69.50611...  \n",
       "3       South America  POLYGON ((-69.51009 -17.50659, -69.51009 -17.5...  \n",
       "4       South America  MULTIPOLYGON (((-69.51009 -17.50659, -69.63832...  "
      ]
     },
     "execution_count": 3,
     "metadata": {},
     "output_type": "execute_result"
    }
   ],
   "source": [
    "countries = gpd.read_file(\"data/countries.shp\");\n",
    "countries.head()\n",
    "\n",
    "d = gpd."
   ]
  },
  {
   "cell_type": "code",
   "execution_count": 9,
   "id": "53388231",
   "metadata": {},
   "outputs": [
    {
     "data": {
      "text/html": [
       "<div>\n",
       "<style scoped>\n",
       "    .dataframe tbody tr th:only-of-type {\n",
       "        vertical-align: middle;\n",
       "    }\n",
       "\n",
       "    .dataframe tbody tr th {\n",
       "        vertical-align: top;\n",
       "    }\n",
       "\n",
       "    .dataframe thead th {\n",
       "        text-align: right;\n",
       "    }\n",
       "</style>\n",
       "<table border=\"1\" class=\"dataframe\">\n",
       "  <thead>\n",
       "    <tr style=\"text-align: right;\">\n",
       "      <th></th>\n",
       "      <th>data_id</th>\n",
       "      <th>iso</th>\n",
       "      <th>event_id_cnty</th>\n",
       "      <th>event_id_no_cnty</th>\n",
       "      <th>event_date</th>\n",
       "      <th>year</th>\n",
       "      <th>time_precision</th>\n",
       "      <th>event_type</th>\n",
       "      <th>sub_event_type</th>\n",
       "      <th>actor1</th>\n",
       "      <th>...</th>\n",
       "      <th>location</th>\n",
       "      <th>latitude</th>\n",
       "      <th>longitude</th>\n",
       "      <th>geo_precision</th>\n",
       "      <th>source</th>\n",
       "      <th>source_scale</th>\n",
       "      <th>notes</th>\n",
       "      <th>fatalities</th>\n",
       "      <th>timestamp</th>\n",
       "      <th>iso3</th>\n",
       "    </tr>\n",
       "  </thead>\n",
       "  <tbody>\n",
       "    <tr>\n",
       "      <th>0</th>\n",
       "      <td>6768128</td>\n",
       "      <td>887</td>\n",
       "      <td>YEM45982</td>\n",
       "      <td>45982</td>\n",
       "      <td>31 December 2019</td>\n",
       "      <td>2019</td>\n",
       "      <td>1</td>\n",
       "      <td>Battles</td>\n",
       "      <td>Armed clash</td>\n",
       "      <td>Military Forces of Yemen (2012-)</td>\n",
       "      <td>...</td>\n",
       "      <td>Habban</td>\n",
       "      <td>14.3541</td>\n",
       "      <td>47.0765</td>\n",
       "      <td>2</td>\n",
       "      <td>Yemen Data Project; Aden al Ghad; Al Janoob al...</td>\n",
       "      <td>Local partner-National</td>\n",
       "      <td>On 31 December 2019, clashes reportedly erupte...</td>\n",
       "      <td>0</td>\n",
       "      <td>1580761030</td>\n",
       "      <td>YEM</td>\n",
       "    </tr>\n",
       "    <tr>\n",
       "      <th>1</th>\n",
       "      <td>6768129</td>\n",
       "      <td>887</td>\n",
       "      <td>YEM45983</td>\n",
       "      <td>45983</td>\n",
       "      <td>31 December 2019</td>\n",
       "      <td>2019</td>\n",
       "      <td>1</td>\n",
       "      <td>Strategic developments</td>\n",
       "      <td>Change to group/activity</td>\n",
       "      <td>Military Forces of Yemen (2012-) Security Belt...</td>\n",
       "      <td>...</td>\n",
       "      <td>Habban</td>\n",
       "      <td>14.3541</td>\n",
       "      <td>47.0765</td>\n",
       "      <td>2</td>\n",
       "      <td>Al Janoob al Youm; Yemen Data Project</td>\n",
       "      <td>Local partner-National</td>\n",
       "      <td>On 31 December 2019, forces loyal to the South...</td>\n",
       "      <td>0</td>\n",
       "      <td>1580761030</td>\n",
       "      <td>YEM</td>\n",
       "    </tr>\n",
       "    <tr>\n",
       "      <th>2</th>\n",
       "      <td>6768130</td>\n",
       "      <td>887</td>\n",
       "      <td>YEM45984</td>\n",
       "      <td>45984</td>\n",
       "      <td>31 December 2019</td>\n",
       "      <td>2019</td>\n",
       "      <td>1</td>\n",
       "      <td>Battles</td>\n",
       "      <td>Armed clash</td>\n",
       "      <td>Military Forces of Yemen (2012-)</td>\n",
       "      <td>...</td>\n",
       "      <td>Wadi Haburah</td>\n",
       "      <td>14.2081</td>\n",
       "      <td>47.1570</td>\n",
       "      <td>1</td>\n",
       "      <td>Al Janoob al Youm; Aden al Ghad; Yemen Data Pr...</td>\n",
       "      <td>Local partner-National</td>\n",
       "      <td>On 31 December 2019, clashes reportedly erupte...</td>\n",
       "      <td>1</td>\n",
       "      <td>1580761030</td>\n",
       "      <td>YEM</td>\n",
       "    </tr>\n",
       "    <tr>\n",
       "      <th>3</th>\n",
       "      <td>6715395</td>\n",
       "      <td>356</td>\n",
       "      <td>IND68948</td>\n",
       "      <td>68948</td>\n",
       "      <td>31 December 2019</td>\n",
       "      <td>2019</td>\n",
       "      <td>1</td>\n",
       "      <td>Protests</td>\n",
       "      <td>Peaceful protest</td>\n",
       "      <td>Protesters (India)</td>\n",
       "      <td>...</td>\n",
       "      <td>Bhubaneswar</td>\n",
       "      <td>20.2724</td>\n",
       "      <td>85.8338</td>\n",
       "      <td>1</td>\n",
       "      <td>Pioneer (India)</td>\n",
       "      <td>National</td>\n",
       "      <td>On 31 December, students' wing of INC and Mili...</td>\n",
       "      <td>0</td>\n",
       "      <td>1578514389</td>\n",
       "      <td>IND</td>\n",
       "    </tr>\n",
       "    <tr>\n",
       "      <th>4</th>\n",
       "      <td>6943236</td>\n",
       "      <td>222</td>\n",
       "      <td>SLV861</td>\n",
       "      <td>861</td>\n",
       "      <td>31 December 2019</td>\n",
       "      <td>2019</td>\n",
       "      <td>1</td>\n",
       "      <td>Violence against civilians</td>\n",
       "      <td>Attack</td>\n",
       "      <td>B-18: Barrio-18</td>\n",
       "      <td>...</td>\n",
       "      <td>Huizucar</td>\n",
       "      <td>13.5894</td>\n",
       "      <td>-89.2383</td>\n",
       "      <td>1</td>\n",
       "      <td>El Salvador.com</td>\n",
       "      <td>National</td>\n",
       "      <td>On 31th December 2019 in Huizucar (La Libertad...</td>\n",
       "      <td>1</td>\n",
       "      <td>1582839958</td>\n",
       "      <td>SLV</td>\n",
       "    </tr>\n",
       "  </tbody>\n",
       "</table>\n",
       "<p>5 rows × 31 columns</p>\n",
       "</div>"
      ],
      "text/plain": [
       "   data_id  iso event_id_cnty  event_id_no_cnty        event_date  year  \\\n",
       "0  6768128  887      YEM45982             45982  31 December 2019  2019   \n",
       "1  6768129  887      YEM45983             45983  31 December 2019  2019   \n",
       "2  6768130  887      YEM45984             45984  31 December 2019  2019   \n",
       "3  6715395  356      IND68948             68948  31 December 2019  2019   \n",
       "4  6943236  222        SLV861               861  31 December 2019  2019   \n",
       "\n",
       "   time_precision                  event_type            sub_event_type  \\\n",
       "0               1                     Battles               Armed clash   \n",
       "1               1      Strategic developments  Change to group/activity   \n",
       "2               1                     Battles               Armed clash   \n",
       "3               1                    Protests          Peaceful protest   \n",
       "4               1  Violence against civilians                    Attack   \n",
       "\n",
       "                                              actor1  ...      location  \\\n",
       "0                   Military Forces of Yemen (2012-)  ...        Habban   \n",
       "1  Military Forces of Yemen (2012-) Security Belt...  ...        Habban   \n",
       "2                   Military Forces of Yemen (2012-)  ...  Wadi Haburah   \n",
       "3                                 Protesters (India)  ...   Bhubaneswar   \n",
       "4                                    B-18: Barrio-18  ...      Huizucar   \n",
       "\n",
       "   latitude longitude geo_precision  \\\n",
       "0   14.3541   47.0765             2   \n",
       "1   14.3541   47.0765             2   \n",
       "2   14.2081   47.1570             1   \n",
       "3   20.2724   85.8338             1   \n",
       "4   13.5894  -89.2383             1   \n",
       "\n",
       "                                              source            source_scale  \\\n",
       "0  Yemen Data Project; Aden al Ghad; Al Janoob al...  Local partner-National   \n",
       "1              Al Janoob al Youm; Yemen Data Project  Local partner-National   \n",
       "2  Al Janoob al Youm; Aden al Ghad; Yemen Data Pr...  Local partner-National   \n",
       "3                                    Pioneer (India)                National   \n",
       "4                                    El Salvador.com                National   \n",
       "\n",
       "                                               notes fatalities   timestamp  \\\n",
       "0  On 31 December 2019, clashes reportedly erupte...          0  1580761030   \n",
       "1  On 31 December 2019, forces loyal to the South...          0  1580761030   \n",
       "2  On 31 December 2019, clashes reportedly erupte...          1  1580761030   \n",
       "3  On 31 December, students' wing of INC and Mili...          0  1578514389   \n",
       "4  On 31th December 2019 in Huizucar (La Libertad...          1  1582839958   \n",
       "\n",
       "  iso3  \n",
       "0  YEM  \n",
       "1  YEM  \n",
       "2  YEM  \n",
       "3  IND  \n",
       "4  SLV  \n",
       "\n",
       "[5 rows x 31 columns]"
      ]
     },
     "execution_count": 9,
     "metadata": {},
     "output_type": "execute_result"
    }
   ],
   "source": [
    "conflicts = pd.read_csv(\"data/acled2019.csv\")\n",
    "conflicts.head()"
   ]
  },
  {
   "cell_type": "code",
   "execution_count": 12,
   "id": "346da989",
   "metadata": {},
   "outputs": [
    {
     "name": "stderr",
     "output_type": "stream",
     "text": [
      "<ipython-input-12-9184364f916c>:6: UserWarning: Column names longer than 10 characters will be truncated when saved to ESRI Shapefile.\n",
      "  gdf.to_file(\"data/acled2019.shp\", crs={'init' :'epsg:4326'})\n",
      "C:\\Users\\padidar\\anaconda3\\envs\\spatialds\\lib\\site-packages\\pyproj\\crs\\crs.py:141: FutureWarning: '+init=<authority>:<code>' syntax is deprecated. '<authority>:<code>' is the preferred initialization method. When making the change, be mindful of axis order changes: https://pyproj4.github.io/pyproj/stable/gotchas.html#axis-order-changes-in-proj-6\n",
      "  in_crs_string = _prepare_from_proj_string(in_crs_string)\n"
     ]
    }
   ],
   "source": [
    "gdf = gpd.GeoDataFrame(\n",
    "    conflicts, \n",
    "    geometry=gpd.points_from_xy(conflicts.longitude, conflicts.latitude)\n",
    ")\n",
    "\n",
    "gdf.to_file(\"data/acled2019.shp\", crs={'init' :'epsg:4326'})"
   ]
  },
  {
   "cell_type": "code",
   "execution_count": 14,
   "id": "9623aa1e",
   "metadata": {},
   "outputs": [
    {
     "data": {
      "text/plain": [
       "<AxesSubplot:>"
      ]
     },
     "execution_count": 14,
     "metadata": {},
     "output_type": "execute_result"
    },
    {
     "data": {
      "image/png": "[encoded data removed]",
      "text/plain": [
       "<Figure size 432x288 with 1 Axes>"
      ]
     },
     "metadata": {
      "needs_background": "light"
     },
     "output_type": "display_data"
    }
   ],
   "source": [
    "conflicts = gpd.read_file('data/acled2019.shp')\n",
    "conflicts.plot(markersize=1)"
   ]
  },
  {
   "cell_type": "code",
   "execution_count": 15,
   "id": "ab5f157b",
   "metadata": {},
   "outputs": [
    {
     "data": {
      "text/plain": [
       "<AxesSubplot:>"
      ]
     },
     "execution_count": 15,
     "metadata": {},
     "output_type": "execute_result"
    },
    {
     "data": {
      "image/png": "[encoded data removed]",
      "text/plain": [
       "<Figure size 432x288 with 1 Axes>"
      ]
     },
     "metadata": {
      "needs_background": "light"
     },
     "output_type": "display_data"
    }
   ],
   "source": []
  },
  {
   "cell_type": "code",
   "execution_count": 17,
   "id": "a917701b",
   "metadata": {},
   "outputs": [
    {
     "data": {
      "text/html": [
       "<div>\n",
       "<style scoped>\n",
       "    .dataframe tbody tr th:only-of-type {\n",
       "        vertical-align: middle;\n",
       "    }\n",
       "\n",
       "    .dataframe tbody tr th {\n",
       "        vertical-align: top;\n",
       "    }\n",
       "\n",
       "    .dataframe thead th {\n",
       "        text-align: right;\n",
       "    }\n",
       "</style>\n",
       "<table border=\"1\" class=\"dataframe\">\n",
       "  <thead>\n",
       "    <tr style=\"text-align: right;\">\n",
       "      <th></th>\n",
       "      <th>NAME</th>\n",
       "      <th>geometry</th>\n",
       "    </tr>\n",
       "  </thead>\n",
       "  <tbody>\n",
       "    <tr>\n",
       "      <th>0</th>\n",
       "      <td>Indonesia</td>\n",
       "      <td>MULTIPOLYGON (((117.70361 4.16341, 117.70361 4...</td>\n",
       "    </tr>\n",
       "    <tr>\n",
       "      <th>1</th>\n",
       "      <td>Malaysia</td>\n",
       "      <td>MULTIPOLYGON (((117.70361 4.16341, 117.69711 4...</td>\n",
       "    </tr>\n",
       "  </tbody>\n",
       "</table>\n",
       "</div>"
      ],
      "text/plain": [
       "        NAME                                           geometry\n",
       "0  Indonesia  MULTIPOLYGON (((117.70361 4.16341, 117.70361 4...\n",
       "1   Malaysia  MULTIPOLYGON (((117.70361 4.16341, 117.69711 4..."
      ]
     },
     "execution_count": 17,
     "metadata": {},
     "output_type": "execute_result"
    }
   ],
   "source": [
    "country_shape = countries[['NAME','geometry']]\n",
    "country_shape.head(2)"
   ]
  },
  {
   "cell_type": "code",
   "execution_count": 18,
   "id": "2b0e63e4",
   "metadata": {},
   "outputs": [
    {
     "data": {
      "text/html": [
       "<div>\n",
       "<style scoped>\n",
       "    .dataframe tbody tr th:only-of-type {\n",
       "        vertical-align: middle;\n",
       "    }\n",
       "\n",
       "    .dataframe tbody tr th {\n",
       "        vertical-align: top;\n",
       "    }\n",
       "\n",
       "    .dataframe thead th {\n",
       "        text-align: right;\n",
       "    }\n",
       "</style>\n",
       "<table border=\"1\" class=\"dataframe\">\n",
       "  <thead>\n",
       "    <tr style=\"text-align: right;\">\n",
       "      <th></th>\n",
       "      <th>NAME</th>\n",
       "      <th>POP_EST</th>\n",
       "    </tr>\n",
       "  </thead>\n",
       "  <tbody>\n",
       "    <tr>\n",
       "      <th>0</th>\n",
       "      <td>Indonesia</td>\n",
       "      <td>260580739</td>\n",
       "    </tr>\n",
       "    <tr>\n",
       "      <th>1</th>\n",
       "      <td>Malaysia</td>\n",
       "      <td>31381992</td>\n",
       "    </tr>\n",
       "  </tbody>\n",
       "</table>\n",
       "</div>"
      ],
      "text/plain": [
       "        NAME    POP_EST\n",
       "0  Indonesia  260580739\n",
       "1   Malaysia   31381992"
      ]
     },
     "execution_count": 18,
     "metadata": {},
     "output_type": "execute_result"
    }
   ],
   "source": [
    "country_name = countries[['NAME','POP_EST']]\n",
    "country_name.head(2)"
   ]
  },
  {
   "cell_type": "code",
   "execution_count": 20,
   "id": "db573662",
   "metadata": {},
   "outputs": [
    {
     "data": {
      "text/html": [
       "<div>\n",
       "<style scoped>\n",
       "    .dataframe tbody tr th:only-of-type {\n",
       "        vertical-align: middle;\n",
       "    }\n",
       "\n",
       "    .dataframe tbody tr th {\n",
       "        vertical-align: top;\n",
       "    }\n",
       "\n",
       "    .dataframe thead th {\n",
       "        text-align: right;\n",
       "    }\n",
       "</style>\n",
       "<table border=\"1\" class=\"dataframe\">\n",
       "  <thead>\n",
       "    <tr style=\"text-align: right;\">\n",
       "      <th></th>\n",
       "      <th>NAME</th>\n",
       "      <th>geometry</th>\n",
       "      <th>POP_EST</th>\n",
       "    </tr>\n",
       "  </thead>\n",
       "  <tbody>\n",
       "    <tr>\n",
       "      <th>0</th>\n",
       "      <td>Indonesia</td>\n",
       "      <td>MULTIPOLYGON (((117.70361 4.16341, 117.70361 4...</td>\n",
       "      <td>260580739</td>\n",
       "    </tr>\n",
       "    <tr>\n",
       "      <th>1</th>\n",
       "      <td>Malaysia</td>\n",
       "      <td>MULTIPOLYGON (((117.70361 4.16341, 117.69711 4...</td>\n",
       "      <td>31381992</td>\n",
       "    </tr>\n",
       "    <tr>\n",
       "      <th>2</th>\n",
       "      <td>Chile</td>\n",
       "      <td>MULTIPOLYGON (((-69.51009 -17.50659, -69.50611...</td>\n",
       "      <td>17789267</td>\n",
       "    </tr>\n",
       "    <tr>\n",
       "      <th>3</th>\n",
       "      <td>Bolivia</td>\n",
       "      <td>POLYGON ((-69.51009 -17.50659, -69.51009 -17.5...</td>\n",
       "      <td>11138234</td>\n",
       "    </tr>\n",
       "    <tr>\n",
       "      <th>4</th>\n",
       "      <td>Peru</td>\n",
       "      <td>MULTIPOLYGON (((-69.51009 -17.50659, -69.63832...</td>\n",
       "      <td>31036656</td>\n",
       "    </tr>\n",
       "  </tbody>\n",
       "</table>\n",
       "</div>"
      ],
      "text/plain": [
       "        NAME                                           geometry    POP_EST\n",
       "0  Indonesia  MULTIPOLYGON (((117.70361 4.16341, 117.70361 4...  260580739\n",
       "1   Malaysia  MULTIPOLYGON (((117.70361 4.16341, 117.69711 4...   31381992\n",
       "2      Chile  MULTIPOLYGON (((-69.51009 -17.50659, -69.50611...   17789267\n",
       "3    Bolivia  POLYGON ((-69.51009 -17.50659, -69.51009 -17.5...   11138234\n",
       "4       Peru  MULTIPOLYGON (((-69.51009 -17.50659, -69.63832...   31036656"
      ]
     },
     "execution_count": 20,
     "metadata": {},
     "output_type": "execute_result"
    }
   ],
   "source": [
    "country_join = country_shape.merge(country_name, on='NAME', how='left')\n",
    "country_join.head()"
   ]
  },
  {
   "cell_type": "code",
   "execution_count": 21,
   "id": "90ed4a97",
   "metadata": {},
   "outputs": [
    {
     "data": {
      "text/plain": [
       "pandas.core.frame.DataFrame"
      ]
     },
     "execution_count": 21,
     "metadata": {},
     "output_type": "execute_result"
    }
   ],
   "source": [
    "type(country_name)"
   ]
  },
  {
   "cell_type": "code",
   "execution_count": 22,
   "id": "258b375b",
   "metadata": {},
   "outputs": [
    {
     "data": {
      "text/plain": [
       "geopandas.geodataframe.GeoDataFrame"
      ]
     },
     "execution_count": 22,
     "metadata": {},
     "output_type": "execute_result"
    }
   ],
   "source": [
    "type(country_join)"
   ]
  },
  {
   "cell_type": "code",
   "execution_count": 23,
   "id": "0bb042fa",
   "metadata": {},
   "outputs": [
    {
     "data": {
      "text/html": [
       "<div>\n",
       "<style scoped>\n",
       "    .dataframe tbody tr th:only-of-type {\n",
       "        vertical-align: middle;\n",
       "    }\n",
       "\n",
       "    .dataframe tbody tr th {\n",
       "        vertical-align: top;\n",
       "    }\n",
       "\n",
       "    .dataframe thead th {\n",
       "        text-align: right;\n",
       "    }\n",
       "</style>\n",
       "<table border=\"1\" class=\"dataframe\">\n",
       "  <thead>\n",
       "    <tr style=\"text-align: right;\">\n",
       "      <th></th>\n",
       "      <th>data_id</th>\n",
       "      <th>iso</th>\n",
       "      <th>event_id_c</th>\n",
       "      <th>event_id_n</th>\n",
       "      <th>event_date</th>\n",
       "      <th>year</th>\n",
       "      <th>time_preci</th>\n",
       "      <th>event_type</th>\n",
       "      <th>sub_event_</th>\n",
       "      <th>actor1</th>\n",
       "      <th>...</th>\n",
       "      <th>latitude</th>\n",
       "      <th>longitude</th>\n",
       "      <th>geo_precis</th>\n",
       "      <th>source</th>\n",
       "      <th>source_sca</th>\n",
       "      <th>notes</th>\n",
       "      <th>fatalities</th>\n",
       "      <th>timestamp</th>\n",
       "      <th>iso3</th>\n",
       "      <th>geometry</th>\n",
       "    </tr>\n",
       "  </thead>\n",
       "  <tbody>\n",
       "    <tr>\n",
       "      <th>0</th>\n",
       "      <td>6768128</td>\n",
       "      <td>887</td>\n",
       "      <td>YEM45982</td>\n",
       "      <td>45982</td>\n",
       "      <td>31 December 2019</td>\n",
       "      <td>2019</td>\n",
       "      <td>1</td>\n",
       "      <td>Battles</td>\n",
       "      <td>Armed clash</td>\n",
       "      <td>Military Forces of Yemen (2012-)</td>\n",
       "      <td>...</td>\n",
       "      <td>14.3541</td>\n",
       "      <td>47.0765</td>\n",
       "      <td>2</td>\n",
       "      <td>Yemen Data Project; Aden al Ghad; Al Janoob al...</td>\n",
       "      <td>Local partner-National</td>\n",
       "      <td>On 31 December 2019, clashes reportedly erupte...</td>\n",
       "      <td>0</td>\n",
       "      <td>1580761030</td>\n",
       "      <td>YEM</td>\n",
       "      <td>POINT (47.07650 14.35410)</td>\n",
       "    </tr>\n",
       "    <tr>\n",
       "      <th>1</th>\n",
       "      <td>6768129</td>\n",
       "      <td>887</td>\n",
       "      <td>YEM45983</td>\n",
       "      <td>45983</td>\n",
       "      <td>31 December 2019</td>\n",
       "      <td>2019</td>\n",
       "      <td>1</td>\n",
       "      <td>Strategic developments</td>\n",
       "      <td>Change to group/activity</td>\n",
       "      <td>Military Forces of Yemen (2012-) Security Belt...</td>\n",
       "      <td>...</td>\n",
       "      <td>14.3541</td>\n",
       "      <td>47.0765</td>\n",
       "      <td>2</td>\n",
       "      <td>Al Janoob al Youm; Yemen Data Project</td>\n",
       "      <td>Local partner-National</td>\n",
       "      <td>On 31 December 2019, forces loyal to the South...</td>\n",
       "      <td>0</td>\n",
       "      <td>1580761030</td>\n",
       "      <td>YEM</td>\n",
       "      <td>POINT (47.07650 14.35410)</td>\n",
       "    </tr>\n",
       "    <tr>\n",
       "      <th>2</th>\n",
       "      <td>6768130</td>\n",
       "      <td>887</td>\n",
       "      <td>YEM45984</td>\n",
       "      <td>45984</td>\n",
       "      <td>31 December 2019</td>\n",
       "      <td>2019</td>\n",
       "      <td>1</td>\n",
       "      <td>Battles</td>\n",
       "      <td>Armed clash</td>\n",
       "      <td>Military Forces of Yemen (2012-)</td>\n",
       "      <td>...</td>\n",
       "      <td>14.2081</td>\n",
       "      <td>47.1570</td>\n",
       "      <td>1</td>\n",
       "      <td>Al Janoob al Youm; Aden al Ghad; Yemen Data Pr...</td>\n",
       "      <td>Local partner-National</td>\n",
       "      <td>On 31 December 2019, clashes reportedly erupte...</td>\n",
       "      <td>1</td>\n",
       "      <td>1580761030</td>\n",
       "      <td>YEM</td>\n",
       "      <td>POINT (47.15700 14.20810)</td>\n",
       "    </tr>\n",
       "    <tr>\n",
       "      <th>3</th>\n",
       "      <td>6715395</td>\n",
       "      <td>356</td>\n",
       "      <td>IND68948</td>\n",
       "      <td>68948</td>\n",
       "      <td>31 December 2019</td>\n",
       "      <td>2019</td>\n",
       "      <td>1</td>\n",
       "      <td>Protests</td>\n",
       "      <td>Peaceful protest</td>\n",
       "      <td>Protesters (India)</td>\n",
       "      <td>...</td>\n",
       "      <td>20.2724</td>\n",
       "      <td>85.8338</td>\n",
       "      <td>1</td>\n",
       "      <td>Pioneer (India)</td>\n",
       "      <td>National</td>\n",
       "      <td>On 31 December, students' wing of INC and Mili...</td>\n",
       "      <td>0</td>\n",
       "      <td>1578514389</td>\n",
       "      <td>IND</td>\n",
       "      <td>POINT (85.83380 20.27240)</td>\n",
       "    </tr>\n",
       "    <tr>\n",
       "      <th>4</th>\n",
       "      <td>6943236</td>\n",
       "      <td>222</td>\n",
       "      <td>SLV861</td>\n",
       "      <td>861</td>\n",
       "      <td>31 December 2019</td>\n",
       "      <td>2019</td>\n",
       "      <td>1</td>\n",
       "      <td>Violence against civilians</td>\n",
       "      <td>Attack</td>\n",
       "      <td>B-18: Barrio-18</td>\n",
       "      <td>...</td>\n",
       "      <td>13.5894</td>\n",
       "      <td>-89.2383</td>\n",
       "      <td>1</td>\n",
       "      <td>El Salvador.com</td>\n",
       "      <td>National</td>\n",
       "      <td>On 31th December 2019 in Huizucar (La Libertad...</td>\n",
       "      <td>1</td>\n",
       "      <td>1582839958</td>\n",
       "      <td>SLV</td>\n",
       "      <td>POINT (-89.23830 13.58940)</td>\n",
       "    </tr>\n",
       "  </tbody>\n",
       "</table>\n",
       "<p>5 rows × 32 columns</p>\n",
       "</div>"
      ],
      "text/plain": [
       "   data_id  iso event_id_c  event_id_n        event_date  year  time_preci  \\\n",
       "0  6768128  887   YEM45982       45982  31 December 2019  2019           1   \n",
       "1  6768129  887   YEM45983       45983  31 December 2019  2019           1   \n",
       "2  6768130  887   YEM45984       45984  31 December 2019  2019           1   \n",
       "3  6715395  356   IND68948       68948  31 December 2019  2019           1   \n",
       "4  6943236  222     SLV861         861  31 December 2019  2019           1   \n",
       "\n",
       "                   event_type                sub_event_  \\\n",
       "0                     Battles               Armed clash   \n",
       "1      Strategic developments  Change to group/activity   \n",
       "2                     Battles               Armed clash   \n",
       "3                    Protests          Peaceful protest   \n",
       "4  Violence against civilians                    Attack   \n",
       "\n",
       "                                              actor1  ... latitude  longitude  \\\n",
       "0                   Military Forces of Yemen (2012-)  ...  14.3541    47.0765   \n",
       "1  Military Forces of Yemen (2012-) Security Belt...  ...  14.3541    47.0765   \n",
       "2                   Military Forces of Yemen (2012-)  ...  14.2081    47.1570   \n",
       "3                                 Protesters (India)  ...  20.2724    85.8338   \n",
       "4                                    B-18: Barrio-18  ...  13.5894   -89.2383   \n",
       "\n",
       "  geo_precis                                             source  \\\n",
       "0          2  Yemen Data Project; Aden al Ghad; Al Janoob al...   \n",
       "1          2              Al Janoob al Youm; Yemen Data Project   \n",
       "2          1  Al Janoob al Youm; Aden al Ghad; Yemen Data Pr...   \n",
       "3          1                                    Pioneer (India)   \n",
       "4          1                                    El Salvador.com   \n",
       "\n",
       "               source_sca                                              notes  \\\n",
       "0  Local partner-National  On 31 December 2019, clashes reportedly erupte...   \n",
       "1  Local partner-National  On 31 December 2019, forces loyal to the South...   \n",
       "2  Local partner-National  On 31 December 2019, clashes reportedly erupte...   \n",
       "3                National  On 31 December, students' wing of INC and Mili...   \n",
       "4                National  On 31th December 2019 in Huizucar (La Libertad...   \n",
       "\n",
       "  fatalities   timestamp iso3                    geometry  \n",
       "0          0  1580761030  YEM   POINT (47.07650 14.35410)  \n",
       "1          0  1580761030  YEM   POINT (47.07650 14.35410)  \n",
       "2          1  1580761030  YEM   POINT (47.15700 14.20810)  \n",
       "3          0  1578514389  IND   POINT (85.83380 20.27240)  \n",
       "4          1  1582839958  SLV  POINT (-89.23830 13.58940)  \n",
       "\n",
       "[5 rows x 32 columns]"
      ]
     },
     "execution_count": 23,
     "metadata": {},
     "output_type": "execute_result"
    }
   ],
   "source": [
    "conflicts.head()"
   ]
  },
  {
   "cell_type": "code",
   "execution_count": 26,
   "id": "6b3e3154",
   "metadata": {},
   "outputs": [
    {
     "data": {
      "text/html": [
       "<div>\n",
       "<style scoped>\n",
       "    .dataframe tbody tr th:only-of-type {\n",
       "        vertical-align: middle;\n",
       "    }\n",
       "\n",
       "    .dataframe tbody tr th {\n",
       "        vertical-align: top;\n",
       "    }\n",
       "\n",
       "    .dataframe thead th {\n",
       "        text-align: right;\n",
       "    }\n",
       "</style>\n",
       "<table border=\"1\" class=\"dataframe\">\n",
       "  <thead>\n",
       "    <tr style=\"text-align: right;\">\n",
       "      <th></th>\n",
       "      <th>sub_event_</th>\n",
       "      <th>source</th>\n",
       "      <th>geometry</th>\n",
       "    </tr>\n",
       "  </thead>\n",
       "  <tbody>\n",
       "    <tr>\n",
       "      <th>0</th>\n",
       "      <td>Armed clash</td>\n",
       "      <td>Yemen Data Project; Aden al Ghad; Al Janoob al...</td>\n",
       "      <td>POINT (47.07650 14.35410)</td>\n",
       "    </tr>\n",
       "    <tr>\n",
       "      <th>1</th>\n",
       "      <td>Change to group/activity</td>\n",
       "      <td>Al Janoob al Youm; Yemen Data Project</td>\n",
       "      <td>POINT (47.07650 14.35410)</td>\n",
       "    </tr>\n",
       "    <tr>\n",
       "      <th>2</th>\n",
       "      <td>Armed clash</td>\n",
       "      <td>Al Janoob al Youm; Aden al Ghad; Yemen Data Pr...</td>\n",
       "      <td>POINT (47.15700 14.20810)</td>\n",
       "    </tr>\n",
       "    <tr>\n",
       "      <th>3</th>\n",
       "      <td>Peaceful protest</td>\n",
       "      <td>Pioneer (India)</td>\n",
       "      <td>POINT (85.83380 20.27240)</td>\n",
       "    </tr>\n",
       "    <tr>\n",
       "      <th>4</th>\n",
       "      <td>Attack</td>\n",
       "      <td>El Salvador.com</td>\n",
       "      <td>POINT (-89.23830 13.58940)</td>\n",
       "    </tr>\n",
       "  </tbody>\n",
       "</table>\n",
       "</div>"
      ],
      "text/plain": [
       "                 sub_event_  \\\n",
       "0               Armed clash   \n",
       "1  Change to group/activity   \n",
       "2               Armed clash   \n",
       "3          Peaceful protest   \n",
       "4                    Attack   \n",
       "\n",
       "                                              source  \\\n",
       "0  Yemen Data Project; Aden al Ghad; Al Janoob al...   \n",
       "1              Al Janoob al Youm; Yemen Data Project   \n",
       "2  Al Janoob al Youm; Aden al Ghad; Yemen Data Pr...   \n",
       "3                                    Pioneer (India)   \n",
       "4                                    El Salvador.com   \n",
       "\n",
       "                     geometry  \n",
       "0   POINT (47.07650 14.35410)  \n",
       "1   POINT (47.07650 14.35410)  \n",
       "2   POINT (47.15700 14.20810)  \n",
       "3   POINT (85.83380 20.27240)  \n",
       "4  POINT (-89.23830 13.58940)  "
      ]
     },
     "execution_count": 26,
     "metadata": {},
     "output_type": "execute_result"
    }
   ],
   "source": [
    "conflicts_gdf = conflicts[['sub_event_','source','geometry']]\n",
    "conflicts_gdf.head()"
   ]
  },
  {
   "cell_type": "code",
   "execution_count": 27,
   "id": "2db11c7d",
   "metadata": {
    "collapsed": true
   },
   "outputs": [
    {
     "data": {
      "text/plain": [
       "<Geographic 2D CRS: EPSG:4326>\n",
       "Name: WGS 84\n",
       "Axis Info [ellipsoidal]:\n",
       "- Lat[north]: Geodetic latitude (degree)\n",
       "- Lon[east]: Geodetic longitude (degree)\n",
       "Area of Use:\n",
       "- name: World.\n",
       "- bounds: (-180.0, -90.0, 180.0, 90.0)\n",
       "Datum: World Geodetic System 1984 ensemble\n",
       "- Ellipsoid: WGS 84\n",
       "- Prime Meridian: Greenwich"
      ]
     },
     "execution_count": 27,
     "metadata": {},
     "output_type": "execute_result"
    }
   ],
   "source": [
    "conflicts_gdf.crs"
   ]
  },
  {
   "cell_type": "code",
   "execution_count": 25,
   "id": "bea96585",
   "metadata": {
    "scrolled": true
   },
   "outputs": [
    {
     "data": {
      "text/html": [
       "<div>\n",
       "<style scoped>\n",
       "    .dataframe tbody tr th:only-of-type {\n",
       "        vertical-align: middle;\n",
       "    }\n",
       "\n",
       "    .dataframe tbody tr th {\n",
       "        vertical-align: top;\n",
       "    }\n",
       "\n",
       "    .dataframe thead th {\n",
       "        text-align: right;\n",
       "    }\n",
       "</style>\n",
       "<table border=\"1\" class=\"dataframe\">\n",
       "  <thead>\n",
       "    <tr style=\"text-align: right;\">\n",
       "      <th></th>\n",
       "      <th>NAME</th>\n",
       "      <th>geometry</th>\n",
       "    </tr>\n",
       "  </thead>\n",
       "  <tbody>\n",
       "    <tr>\n",
       "      <th>0</th>\n",
       "      <td>Indonesia</td>\n",
       "      <td>MULTIPOLYGON (((117.70361 4.16341, 117.70361 4...</td>\n",
       "    </tr>\n",
       "    <tr>\n",
       "      <th>1</th>\n",
       "      <td>Malaysia</td>\n",
       "      <td>MULTIPOLYGON (((117.70361 4.16341, 117.69711 4...</td>\n",
       "    </tr>\n",
       "    <tr>\n",
       "      <th>2</th>\n",
       "      <td>Chile</td>\n",
       "      <td>MULTIPOLYGON (((-69.51009 -17.50659, -69.50611...</td>\n",
       "    </tr>\n",
       "    <tr>\n",
       "      <th>3</th>\n",
       "      <td>Bolivia</td>\n",
       "      <td>POLYGON ((-69.51009 -17.50659, -69.51009 -17.5...</td>\n",
       "    </tr>\n",
       "    <tr>\n",
       "      <th>4</th>\n",
       "      <td>Peru</td>\n",
       "      <td>MULTIPOLYGON (((-69.51009 -17.50659, -69.63832...</td>\n",
       "    </tr>\n",
       "  </tbody>\n",
       "</table>\n",
       "</div>"
      ],
      "text/plain": [
       "        NAME                                           geometry\n",
       "0  Indonesia  MULTIPOLYGON (((117.70361 4.16341, 117.70361 4...\n",
       "1   Malaysia  MULTIPOLYGON (((117.70361 4.16341, 117.69711 4...\n",
       "2      Chile  MULTIPOLYGON (((-69.51009 -17.50659, -69.50611...\n",
       "3    Bolivia  POLYGON ((-69.51009 -17.50659, -69.51009 -17.5...\n",
       "4       Peru  MULTIPOLYGON (((-69.51009 -17.50659, -69.63832..."
      ]
     },
     "execution_count": 25,
     "metadata": {},
     "output_type": "execute_result"
    }
   ],
   "source": [
    "country_shape.head()"
   ]
  },
  {
   "cell_type": "code",
   "execution_count": 28,
   "id": "a46b3f0c",
   "metadata": {
    "collapsed": true
   },
   "outputs": [
    {
     "data": {
      "text/plain": [
       "<Geographic 2D CRS: EPSG:4326>\n",
       "Name: WGS 84\n",
       "Axis Info [ellipsoidal]:\n",
       "- Lat[north]: Geodetic latitude (degree)\n",
       "- Lon[east]: Geodetic longitude (degree)\n",
       "Area of Use:\n",
       "- name: World.\n",
       "- bounds: (-180.0, -90.0, 180.0, 90.0)\n",
       "Datum: World Geodetic System 1984 ensemble\n",
       "- Ellipsoid: WGS 84\n",
       "- Prime Meridian: Greenwich"
      ]
     },
     "execution_count": 28,
     "metadata": {},
     "output_type": "execute_result"
    }
   ],
   "source": [
    "country_shape.crs"
   ]
  },
  {
   "cell_type": "code",
   "execution_count": 34,
   "id": "65e51d40",
   "metadata": {},
   "outputs": [],
   "source": [
    "conflicts_merging = conflicts_gdf.merge(country_shape , on='geometry' , how='left')"
   ]
  },
  {
   "cell_type": "code",
   "execution_count": 43,
   "id": "8c6f173c",
   "metadata": {},
   "outputs": [
    {
     "name": "stderr",
     "output_type": "stream",
     "text": [
      "C:\\Users\\padidar\\AppData\\Roaming\\Python\\Python39\\site-packages\\IPython\\core\\interactiveshell.py:3418: FutureWarning: The `op` parameter is deprecated and will be removed in a future release. Please use the `predicate` parameter instead.\n",
      "  exec(code_obj, self.user_global_ns, self.user_ns)\n"
     ]
    }
   ],
   "source": [
    "conflicts_joining = conflicts_gdf.sjoin(country_shape , how='inner' , op='within')"
   ]
  },
  {
   "cell_type": "code",
   "execution_count": 46,
   "id": "6296da57",
   "metadata": {},
   "outputs": [
    {
     "name": "stderr",
     "output_type": "stream",
     "text": [
      "C:\\Users\\padidar\\AppData\\Roaming\\Python\\Python39\\site-packages\\IPython\\core\\interactiveshell.py:3338: FutureWarning: The `op` parameter is deprecated and will be removed in a future release. Please use the `predicate` parameter instead.\n",
      "  if (await self.run_code(code, result,  async_=asy)):\n"
     ]
    }
   ],
   "source": [
    "conflicts_joining2 = gpd.sjoin(conflicts_gdf, country_shape , how='inner' , op='within')"
   ]
  },
  {
   "cell_type": "code",
   "execution_count": 47,
   "id": "ad303d58",
   "metadata": {},
   "outputs": [
    {
     "data": {
      "text/plain": [
       "(196422, 5)"
      ]
     },
     "execution_count": 47,
     "metadata": {},
     "output_type": "execute_result"
    }
   ],
   "source": [
    "conflicts_joining2.shape"
   ]
  },
  {
   "cell_type": "code",
   "execution_count": 45,
   "id": "ee2392b2",
   "metadata": {},
   "outputs": [
    {
     "data": {
      "text/plain": [
       "(198761, 4)"
      ]
     },
     "execution_count": 45,
     "metadata": {},
     "output_type": "execute_result"
    }
   ],
   "source": [
    "conflicts_merging.shape"
   ]
  }
 ],
 "metadata": {
  "kernelspec": {
   "display_name": "Python 3 (ipykernel)",
   "language": "python",
   "name": "python3"
  },
  "language_info": {
   "codemirror_mode": {
    "name": "ipython",
    "version": 3
   },
   "file_extension": ".py",
   "mimetype": "text/x-python",
   "name": "python",
   "nbconvert_exporter": "python",
   "pygments_lexer": "ipython3",
   "version": "3.9.18"
  }
 },
 "nbformat": 4,
 "nbformat_minor": 5
}
